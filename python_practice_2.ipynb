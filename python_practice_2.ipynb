{
 "cells": [
  {
   "cell_type": "markdown",
   "metadata": {
    "id": "p9wwt0LZzNvn"
   },
   "source": [
    "# I. Змінні та памʼять."
   ]
  },
  {
   "cell_type": "markdown",
   "metadata": {
    "id": "HTJrrm95xSV9"
   },
   "source": [
    "1. Створити змінні, що посилаються на два цілих числа, що однакові за значенням, де значення належить проміжку від -5 до 256. Перевірте, чи будуть ці змінні рівні тільки за значенням або ж ще будуть посилатися на один і той самий обʼєкт в памʼяті? Наведіть код та дайте текстову відповідь нижче."
   ]
  },
  {
   "cell_type": "code",
   "execution_count": 2,
   "metadata": {
    "ExecuteTime": {
     "end_time": "2025-02-20T09:42:32.249170Z",
     "start_time": "2025-02-20T09:42:32.241843Z"
    },
    "id": "TATni2vzayjG"
   },
   "outputs": [
    {
     "name": "stdout",
     "output_type": "stream",
     "text": [
      "a == b: True\n",
      "a is b: True\n"
     ]
    }
   ],
   "source": [
    "a = 120\n",
    "b = 120\n",
    "\n",
    "print(f'a == b: {a == b}')\n",
    "print(f'a is b: {a is b}')"
   ]
  },
  {
   "cell_type": "markdown",
   "metadata": {
    "id": "zfRG_o3WbRdg"
   },
   "source": [
    "за допомогою `a == b` та `a is b` я перевірила, чи ці змінні рівні за значенням та чи вони посилаються на той самий об'єкт. обидві відповіді `True`. в пайтоні цілі значення в проміжку [-5, 256] зарезервовані для оптимізації, тому коли ми присвоюємо число змінній, то вона посилається на один і той самий об'єкт."
   ]
  },
  {
   "cell_type": "markdown",
   "metadata": {
    "id": "ISORzt6M3vAt"
   },
   "source": [
    "2. За допомогою якої функції можна перевірити належність змінної до вказаного типу даних (напр. чи змінна True посилається на значення булевого та цілочисленого типу)?"
   ]
  },
  {
   "cell_type": "code",
   "execution_count": 3,
   "metadata": {
    "ExecuteTime": {
     "end_time": "2025-02-20T09:46:02.197903Z",
     "start_time": "2025-02-20T09:46:02.182246Z"
    },
    "id": "9vL9CFaMbfyo"
   },
   "outputs": [
    {
     "data": {
      "text/plain": [
       "True"
      ]
     },
     "execution_count": 3,
     "metadata": {},
     "output_type": "execute_result"
    }
   ],
   "source": [
    "isinstance(True, (bool, int))"
   ]
  },
  {
   "cell_type": "markdown",
   "metadata": {},
   "source": [
    "за допомогою функції `isinstance()`, яка приймає як параметри значення та тип."
   ]
  },
  {
   "cell_type": "markdown",
   "metadata": {
    "id": "tRxugKAxwYLw"
   },
   "source": [
    "# II. Цілі числа та числа з рухомою комою"
   ]
  },
  {
   "cell_type": "markdown",
   "metadata": {
    "id": "NLHkgd5Gybc8"
   },
   "source": [
    "3. Створити дві змінні, що посилаються на будь-які ціле число та число з рухомою комою та продемонструвати такі арифметичні операції: додавання, віднімання, ділення, множення, ділення без залишку, ділення по модулю, приведення до ступеню. Всі результати операцій вивести на екран."
   ]
  },
  {
   "cell_type": "code",
   "execution_count": 1,
   "metadata": {
    "ExecuteTime": {
     "end_time": "2025-02-20T09:50:57.183743Z",
     "start_time": "2025-02-20T09:50:57.171271Z"
    },
    "id": "nb8u_3pjb2cA"
   },
   "outputs": [
    {
     "name": "stdout",
     "output_type": "stream",
     "text": [
      "a + b = 69.23\n",
      "a - b = 66.77\n",
      "a / b = 55.28455284552846\n",
      "a * b = 83.64\n",
      "a // b = 55.0\n",
      "a % b = 0.350000000000001\n",
      "a ** b = 179.46756179554657\n"
     ]
    }
   ],
   "source": [
    "a = 68\n",
    "b = 1.23\n",
    "print(f'a + b = {a + b}')   # adding\n",
    "print(f'a - b = {a - b}')   # subtracting\n",
    "print(f'a / b = {a / b}')   # dividing\n",
    "print(f'a * b = {a * b}')   # multiplying\n",
    "print(f'a // b = {a // b}') # integer division\n",
    "print(f'a % b = {a % b}')   # modulo division\n",
    "print(f'a ** b = {a ** b}') # power"
   ]
  },
  {
   "cell_type": "markdown",
   "metadata": {
    "id": "1kBClKgPzZnC"
   },
   "source": [
    "4. Використовуючи змінні з вправи 3, продемонструйте механізм явного перетворення типів, де числа з рухомою комою перетворюються на цілі числа. Також визначте змінну, що посилається на значення булевого типу і спробуйте явно привести її до цілого числа."
   ]
  },
  {
   "cell_type": "code",
   "execution_count": 4,
   "metadata": {
    "ExecuteTime": {
     "end_time": "2025-02-20T09:53:05.400372Z",
     "start_time": "2025-02-20T09:53:05.389570Z"
    },
    "id": "TbqJbkeUcKsD"
   },
   "outputs": [
    {
     "name": "stdout",
     "output_type": "stream",
     "text": [
      "1\n",
      "1\n"
     ]
    }
   ],
   "source": [
    "bool_var = True\n",
    "\n",
    "print(int(b))\n",
    "print(int(bool_var))"
   ]
  },
  {
   "cell_type": "markdown",
   "metadata": {
    "id": "EVJ7AflwxrZi"
   },
   "source": [
    "# IІІ. Рядки (String)."
   ]
  },
  {
   "cell_type": "markdown",
   "metadata": {
    "id": "_s5ECzz9zE61"
   },
   "source": [
    "5. Створити пустий рядок двома різними способами."
   ]
  },
  {
   "cell_type": "code",
   "execution_count": 8,
   "metadata": {
    "ExecuteTime": {
     "end_time": "2025-02-20T09:57:32.803154Z",
     "start_time": "2025-02-20T09:57:32.793934Z"
    },
    "id": "fkZJHu9Scvc-"
   },
   "outputs": [
    {
     "data": {
      "text/plain": [
       "('', '')"
      ]
     },
     "execution_count": 8,
     "metadata": {},
     "output_type": "execute_result"
    }
   ],
   "source": [
    "s1 = ''\n",
    "s2 = str()\n",
    "s1, s2"
   ]
  },
  {
   "cell_type": "markdown",
   "metadata": {
    "id": "4Bdn9J3MzLf_"
   },
   "source": [
    "6. Створити рядок з апострофом. Зробити його сирим. Вивести обидва рядка на екран."
   ]
  },
  {
   "cell_type": "code",
   "execution_count": 11,
   "metadata": {
    "ExecuteTime": {
     "end_time": "2025-02-20T09:59:12.506569Z",
     "start_time": "2025-02-20T09:59:12.498978Z"
    },
    "id": "ivji_hsmc0GH"
   },
   "outputs": [
    {
     "data": {
      "text/plain": [
       "(\"it's random\", \"it\\\\'s random\")"
      ]
     },
     "execution_count": 11,
     "metadata": {},
     "output_type": "execute_result"
    }
   ],
   "source": [
    "s1 = 'it\\'s random'\n",
    "s2 = r'it\\'s random'\n",
    "s1, s2"
   ]
  },
  {
   "cell_type": "markdown",
   "metadata": {
    "id": "bg_d8wM4z8dS"
   },
   "source": [
    "7. Створити змінну, що буде посилатися на Ваше прізвище латинкою. Створити форматований рядок, який буде мати вигляд \"My surname is ______\", де на місці нижніх підкреслень буде Ваше прізвище зі змінної."
   ]
  },
  {
   "cell_type": "code",
   "execution_count": 14,
   "metadata": {
    "ExecuteTime": {
     "end_time": "2025-02-20T10:03:05.988054Z",
     "start_time": "2025-02-20T10:03:05.974844Z"
    },
    "id": "kuxFgpWndACq"
   },
   "outputs": [
    {
     "data": {
      "text/plain": [
       "'my surname is dyrda'"
      ]
     },
     "execution_count": 14,
     "metadata": {},
     "output_type": "execute_result"
    }
   ],
   "source": [
    "surname = 'dyrda'\n",
    "s = f'my surname is {surname}'\n",
    "s"
   ]
  },
  {
   "cell_type": "markdown",
   "metadata": {
    "id": "1Nc6RqvQ0hxU"
   },
   "source": [
    "8. Маючи рядок \"My dog is crazy.\" перетворити його на список [\"my\", \"dog\", \"is\", \"crazy\"]"
   ]
  },
  {
   "cell_type": "code",
   "execution_count": 17,
   "metadata": {
    "ExecuteTime": {
     "end_time": "2025-02-20T10:03:06.766771Z",
     "start_time": "2025-02-20T10:03:06.757805Z"
    },
    "id": "w1Ya4RqedUhw"
   },
   "outputs": [
    {
     "data": {
      "text/plain": [
       "['my', 'dog', 'is', 'crazy']"
      ]
     },
     "execution_count": 17,
     "metadata": {},
     "output_type": "execute_result"
    }
   ],
   "source": [
    "s = 'My dog is crazy'\n",
    "list_s = s.lower().split()\n",
    "list_s"
   ]
  },
  {
   "cell_type": "markdown",
   "metadata": {
    "id": "GYVqN9uP1D4n"
   },
   "source": [
    "# IV. Робота зі списками."
   ]
  },
  {
   "cell_type": "markdown",
   "metadata": {
    "id": "7-DeDunw2sO-"
   },
   "source": [
    "9. Створити список двома різними за синтаксисом способами. За допомогою вбудованої функції обчисліть довжину одного з них."
   ]
  },
  {
   "cell_type": "code",
   "execution_count": 25,
   "metadata": {
    "ExecuteTime": {
     "end_time": "2025-02-20T10:03:32.919834Z",
     "start_time": "2025-02-20T10:03:32.908812Z"
    },
    "id": "zxg06Uuxdyoh"
   },
   "outputs": [
    {
     "name": "stdout",
     "output_type": "stream",
     "text": [
      "first list: [1, 2, 3]\n",
      "second list: [1, 2, 3, 4, 5]\n",
      "length of the second list: 5\n"
     ]
    }
   ],
   "source": [
    "list1 = [1, 2, 3]\n",
    "list2 = list((1, 2, 3, 4, 5))\n",
    "print(f'first list: {list1}')\n",
    "print(f'second list: {list2}')\n",
    "print(f'length of the second list: {len(list2)}')"
   ]
  },
  {
   "cell_type": "markdown",
   "metadata": {
    "id": "8vmGUTjL22gI"
   },
   "source": [
    "10. Створіть два списка та за допомогою спеціального методу додайте другий з них в якості останнього елемента першого."
   ]
  },
  {
   "cell_type": "code",
   "execution_count": 29,
   "metadata": {
    "id": "uHtjWYw7d7hm"
   },
   "outputs": [
    {
     "data": {
      "text/plain": [
       "([7, 3, 9, [8.2, 'a', 33]], [8.2, 'a', 33])"
      ]
     },
     "execution_count": 29,
     "metadata": {},
     "output_type": "execute_result"
    }
   ],
   "source": [
    "list1 = list((7, 3, 9))\n",
    "list2 = list((8.2, 'a', 33))\n",
    "list1.append(list2)\n",
    "list1, list2"
   ]
  },
  {
   "cell_type": "markdown",
   "metadata": {
    "id": "JC3BkD-67_--"
   },
   "source": [
    "11. Створіть список, де елементами цього списку також є списки. Отримай перший елемент з останнього рядка та виведи значення на екран."
   ]
  },
  {
   "cell_type": "code",
   "execution_count": 37,
   "metadata": {
    "id": "Kz2jZHsGeLlz"
   },
   "outputs": [
    {
     "data": {
      "text/plain": [
       "8.2"
      ]
     },
     "execution_count": 37,
     "metadata": {},
     "output_type": "execute_result"
    }
   ],
   "source": [
    "some_list = list((list1, list2))\n",
    "some_list[-1][0]"
   ]
  },
  {
   "cell_type": "markdown",
   "metadata": {
    "id": "JA47PKTv8zFK"
   },
   "source": [
    "12. Створіть список з десяти елементів різного типу. Отримайте всі елементи, окрім двох перших та двох останніх та збережіть їх в новій змінній."
   ]
  },
  {
   "cell_type": "code",
   "execution_count": 39,
   "metadata": {
    "id": "_rHdUR-ueP4-"
   },
   "outputs": [
    {
     "data": {
      "text/plain": [
       "[True, 'idk', [8.2, 'a', 33], (1, 2, 3), {'key': 'value'}, 'beer']"
      ]
     },
     "execution_count": 39,
     "metadata": {},
     "output_type": "execute_result"
    }
   ],
   "source": [
    "some_list = [83, 1.01, True, 'idk', list2, (1, 2, 3), {'key':'value'}, 'beer', 'minions', 120]\n",
    "other_list = some_list[2:(len(some_list)-2)]\n",
    "other_list"
   ]
  },
  {
   "cell_type": "markdown",
   "metadata": {
    "id": "pCjR1dJb1Qbi"
   },
   "source": [
    "# V. Робота з кортежами."
   ]
  },
  {
   "cell_type": "markdown",
   "metadata": {
    "id": "fAZCxAX06R_k"
   },
   "source": [
    "14. Створити кортеж з один елементом."
   ]
  },
  {
   "cell_type": "code",
   "execution_count": 42,
   "metadata": {
    "id": "H7d82WkQev3e"
   },
   "outputs": [
    {
     "data": {
      "text/plain": [
       "('a',)"
      ]
     },
     "execution_count": 42,
     "metadata": {},
     "output_type": "execute_result"
    }
   ],
   "source": [
    "t = ('a',)\n",
    "t"
   ]
  },
  {
   "cell_type": "markdown",
   "metadata": {
    "id": "8LCtYcmI6w1M"
   },
   "source": [
    "15. Порівняйте список та кортеж. Назвіть схожості та відмінності, випадки використання."
   ]
  },
  {
   "cell_type": "markdown",
   "metadata": {
    "id": "fUsN1Hnue0C6"
   },
   "source": [
    "`кортеж` є незмінним типом та він працює швидше, а `список` є змінним та повільнішим. "
   ]
  },
  {
   "cell_type": "markdown",
   "metadata": {
    "id": "m0xrwFijAmDD"
   },
   "source": [
    "16. Створіть кортеж з 11ти елементів чисел з рухомою комою та отримайте кожен парний за індексом елемент в зворотньому порядку. Наприклад, маючи (1.2, 2.3, 3.3, 4.3, 5.3, 6.3, 7.3, 8.3, 9.3, 0.3), отримати (0.3, 8.3, 6.3, 4.3, 2.3). Результат збережіть в нову змінну та виведіть на екран."
   ]
  },
  {
   "cell_type": "code",
   "execution_count": 71,
   "metadata": {
    "id": "p-5DAH6XfAGA"
   },
   "outputs": [
    {
     "data": {
      "text/plain": [
       "(1.1, 9.1, 835.2, 8.35, 6.24)"
      ]
     },
     "execution_count": 71,
     "metadata": {},
     "output_type": "execute_result"
    }
   ],
   "source": [
    "t = (3.52, 6.24, 7.3, 8.35, 6.3, 835.2, 8.2, 9.1, 8.1, 1.1, 0.23)\n",
    "t2 = t[-2:0:-2]\n",
    "t2"
   ]
  },
  {
   "cell_type": "markdown",
   "metadata": {
    "id": "rW_I9dt3x6cW"
   },
   "source": [
    "# VI. Множини (Set)."
   ]
  },
  {
   "cell_type": "markdown",
   "metadata": {
    "id": "zNjRLHLw1Bgg"
   },
   "source": [
    "17. Створити множину без елементів. Після цого за допомогою методу додайте кілька різних елементів до множини. Чи множини є змінним типом даних?"
   ]
  },
  {
   "cell_type": "code",
   "execution_count": 75,
   "metadata": {
    "id": "KOv7zc2Kfo4N"
   },
   "outputs": [
    {
     "data": {
      "text/plain": [
       "{'minion bob', 'minion kevin', 'minion stuart'}"
      ]
     },
     "execution_count": 75,
     "metadata": {},
     "output_type": "execute_result"
    }
   ],
   "source": [
    "s = set()\n",
    "s.add('minion kevin')\n",
    "s.add('minion bob')\n",
    "s.add('minion bob')\n",
    "s.add('minion stuart')\n",
    "s"
   ]
  },
  {
   "cell_type": "markdown",
   "metadata": {
    "id": "vxS6dVYiftZQ"
   },
   "source": [
    "`set` є змінним типом данним"
   ]
  },
  {
   "cell_type": "markdown",
   "metadata": {
    "id": "gHpT0Zw_1HEF"
   },
   "source": [
    "18. Створити множину, маючи список my_list = [1, 1, 2, 67, 67, 8, 9]. Пояснити, чому \"зникли\" деякі елементи."
   ]
  },
  {
   "cell_type": "code",
   "execution_count": 80,
   "metadata": {
    "id": "qCN4uvJ_fxmu"
   },
   "outputs": [
    {
     "data": {
      "text/plain": [
       "{1, 2, 8, 9, 67}"
      ]
     },
     "execution_count": 80,
     "metadata": {},
     "output_type": "execute_result"
    }
   ],
   "source": [
    "my_list = [1, 1, 2, 67, 67, 8, 9]\n",
    "s = set(my_list)\n",
    "s"
   ]
  },
  {
   "cell_type": "markdown",
   "metadata": {
    "id": "tFNc1e20fyny"
   },
   "source": [
    "`set` може містити лише унікальні елементи, бо всередині нього є хеш-таблиця, тому дуплікати не додаються в множину, як і в попередньому прикладі в нас не може бути двох посіпак по імені боб"
   ]
  },
  {
   "cell_type": "markdown",
   "metadata": {
    "id": "SRMkGizS1UwY"
   },
   "source": [
    "19. Створіть дві множини. Продемонстуйте над ними операції: обʼєднання, різниці, пересічі та симетричної різниці. Використовуйте методи, що не змінюють множини, а створюють нові."
   ]
  },
  {
   "cell_type": "code",
   "execution_count": 92,
   "metadata": {
    "id": "h0T-VuDnf3Ri"
   },
   "outputs": [
    {
     "name": "stdout",
     "output_type": "stream",
     "text": [
      "union set:                {'gru', 'minion stuart', 'minion kevin', 'minion bob', 'scarlett overkill'}\n",
      "difference set:           {'gru', 'minion stuart'}\n",
      "intersection set:         {'minion bob', 'minion kevin'}\n",
      "symmetric difference set: {'gru', 'minion stuart', 'scarlett overkill'}\n"
     ]
    }
   ],
   "source": [
    "s1 = {'minion bob', 'minion kevin', 'minion stuart', 'gru'}\n",
    "s2 = {'minion bob', 'minion kevin', 'scarlett overkill'}\n",
    "\n",
    "union_set = s1.union(s2)\n",
    "difference_set = s1.difference(s2)\n",
    "intersection_set = s1.intersection(s2)\n",
    "symmetric_difference_set = s1.symmetric_difference(s2)\n",
    "\n",
    "print(f'union set:                {union_set}')\n",
    "print(f'difference set:           {difference_set}')\n",
    "print(f'intersection set:         {intersection_set}')\n",
    "print(f'symmetric difference set: {symmetric_difference_set}')"
   ]
  },
  {
   "cell_type": "markdown",
   "metadata": {
    "id": "kWc8gkzTx7Ea"
   },
   "source": [
    "# VII. Словники (Dictionary)."
   ]
  },
  {
   "cell_type": "markdown",
   "metadata": {
    "id": "i5FLwj-B2ybQ"
   },
   "source": [
    "20. Створіть пустий словник. До нього додайте чотири пари елементів такі, щоб їхні ключі були різних типів. Чи може список бути ключем? Чому?"
   ]
  },
  {
   "cell_type": "code",
   "execution_count": 110,
   "metadata": {
    "id": "hxgv3BzrgLAV"
   },
   "outputs": [
    {
     "data": {
      "text/plain": [
       "{1: 'icecream',\n",
       " 'yellow': 'minion',\n",
       " False: 'not a minion',\n",
       " 2.999: {'minion': ['kevin', 'stuart', 'bob']}}"
      ]
     },
     "execution_count": 110,
     "metadata": {},
     "output_type": "execute_result"
    }
   ],
   "source": [
    "d = dict()\n",
    "d[1] = 'icecream'\n",
    "d['yellow'] = 'minion'\n",
    "d[False] = 'not a minion'\n",
    "d[2.999] = {'minion': ['kevin', 'stuart', 'bob']}\n",
    "#d[[1, 2]] = -1\n",
    "d"
   ]
  },
  {
   "cell_type": "markdown",
   "metadata": {
    "id": "zwa7UVN-gR3m"
   },
   "source": [
    "`список` не може бути ключем, тому що в основі словника лежить хеш-таблиця, тобто значення ключів - хешовані (незмінювані). списки це змінювані об'єкти, тож не можуть бути ключами.\n",
    "компілятор кине помилку `TypeError: unhashable type: 'list'`"
   ]
  },
  {
   "cell_type": "markdown",
   "metadata": {
    "id": "WM_pMlJsgoNf"
   },
   "source": [
    "21. Створіть словник, де значенням в одній з пар теж буде словник, який теж має вкладений словник. Виведіть на екран значення, що міститься в словнику, що знаходиться на найнижчому рівні ієрархії вкладеності (найбільш внутрішній)."
   ]
  },
  {
   "cell_type": "code",
   "execution_count": 115,
   "metadata": {
    "id": "60dlP7IHhAy4"
   },
   "outputs": [
    {
     "data": {
      "text/plain": [
       "1"
      ]
     },
     "execution_count": 115,
     "metadata": {},
     "output_type": "execute_result"
    }
   ],
   "source": [
    "d = {\n",
    "    'minion': {\n",
    "        'kevin': {\n",
    "            'name': 'kevin',\n",
    "            'traits': ['caring', 'leader', 'kind'],\n",
    "            'appearance': {\n",
    "                'height': 'tall',\n",
    "                'eye': 2\n",
    "            }\n",
    "        },\n",
    "        'stuart': {\n",
    "            'name': 'stuart',\n",
    "            'traits': ['funny', 'cringy', 'cool hair'],\n",
    "            'appearance': {\n",
    "                'height': 'average',\n",
    "                'eye': 2\n",
    "            }\n",
    "        },\n",
    "        'bob': {\n",
    "            'traits': ['cutie', 'small'],\n",
    "            'appearance': {\n",
    "                'height': 'small',\n",
    "                'eye': 1\n",
    "            }\n",
    "        }\n",
    "    },\n",
    "    'human': {\n",
    "        'gru': 'cool guy'\n",
    "    }\n",
    "}\n",
    "\n",
    "bob_eye = d['minion']['bob']['appearance']['eye']\n",
    "bob_eye"
   ]
  },
  {
   "cell_type": "markdown",
   "metadata": {
    "id": "xOZP0hkx6cCr"
   },
   "source": [
    "# Вітаю! Ви велика(ий) молодець, що впоралась(вся). Похваліть себе та побалуйте чимось приємним. Я Вами пишаюся."
   ]
  },
  {
   "cell_type": "markdown",
   "metadata": {},
   "source": [
    "<div style=\"text-align: center;\">\n",
    "    <img src=\"https://i.pinimg.com/736x/4b/27/c2/4b27c2a46079384affeff87550491cf4.jpg\" width=\"600\">\n",
    "</div>"
   ]
  }
 ],
 "metadata": {
  "colab": {
   "provenance": []
  },
  "kernelspec": {
   "display_name": "Python 3 (ipykernel)",
   "language": "python",
   "name": "python3"
  },
  "language_info": {
   "codemirror_mode": {
    "name": "ipython",
    "version": 3
   },
   "file_extension": ".py",
   "mimetype": "text/x-python",
   "name": "python",
   "nbconvert_exporter": "python",
   "pygments_lexer": "ipython3",
   "version": "3.12.7"
  }
 },
 "nbformat": 4,
 "nbformat_minor": 4
}
