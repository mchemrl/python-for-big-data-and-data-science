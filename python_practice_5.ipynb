{
 "cells": [
  {
   "cell_type": "markdown",
   "metadata": {
    "id": "5qV_sehzFCTp"
   },
   "source": [
    "# I. OOP"
   ]
  },
  {
   "cell_type": "markdown",
   "metadata": {
    "id": "tx_U_hOALyfg"
   },
   "source": [
    "1. (6б). Створіть клас Building, додайте три атрибути, один з яких має значення за замовчуванням та два методи на свій розсуд."
   ]
  },
  {
   "cell_type": "code",
   "execution_count": 3,
   "metadata": {
    "id": "-Vf895KaL88N"
   },
   "outputs": [],
   "source": [
    "class Building:\n",
    "    def __init__(self, height, width, material=\"brick\"):\n",
    "        self.height = height\n",
    "        self.width = width\n",
    "        self.material = material  \n",
    "    \n",
    "    def area(self):\n",
    "        return self.height * self.width\n",
    "    \n",
    "    def description(self):\n",
    "        return f\"this building is {self.height} meters tall, {self.width} meters wide, and made of {self.material}.\""
   ]
  },
  {
   "cell_type": "markdown",
   "metadata": {
    "id": "X_UlOMB0L93w"
   },
   "source": [
    "2. (2б). Створіть два обʼєкти цього класу, де один з обʼєктів створюється із дефолтним значенням атрибуту. На одному обʼєкті отримайте значення його атрибуту, а на іншому викличте один з його методів."
   ]
  },
  {
   "cell_type": "code",
   "execution_count": 11,
   "metadata": {
    "id": "7gBu0ESOMCpG"
   },
   "outputs": [
    {
     "name": "stdout",
     "output_type": "stream",
     "text": [
      "brick\n"
     ]
    },
    {
     "data": {
      "text/plain": [
       "6000"
      ]
     },
     "execution_count": 11,
     "metadata": {},
     "output_type": "execute_result"
    }
   ],
   "source": [
    "building1 = Building(50, 30)\n",
    "building2 = Building(100, 60, 'stone')\n",
    "print(building1.material)\n",
    "building2.area()"
   ]
  },
  {
   "cell_type": "markdown",
   "metadata": {
    "id": "HoqSCZt1MHn5"
   },
   "source": [
    "3. (5б). Створіть клас, де атрибути мають різні рівні доступу. Спробуйте отримати їхні значення та опишіть результати."
   ]
  },
  {
   "cell_type": "code",
   "execution_count": 25,
   "metadata": {
    "id": "r9b3vJxBMSPV"
   },
   "outputs": [
    {
     "name": "stdout",
     "output_type": "stream",
     "text": [
      "Stuart\n",
      "5\n",
      "Dancing\n"
     ]
    }
   ],
   "source": [
    "class Minion():\n",
    "    def __init__(self, name, age, skill):\n",
    "        self.name = name\n",
    "        self._age = age\n",
    "        self.__skill = skill\n",
    "\n",
    "    def get_skill(self):\n",
    "        return self.__skill\n",
    "\n",
    "minion = Minion('Stuart', 5, 'Dancing')\n",
    "\n",
    "print(minion.name)\n",
    "\n",
    "print(minion._age)\n",
    "\n",
    "# print(m.__skill) \n",
    "\n",
    "print(minion.get_skill())"
   ]
  },
  {
   "cell_type": "markdown",
   "metadata": {},
   "source": [
    "публічний атрибут `name`доступний без обмежень, його можна отримати та змінювати без проблем.   \n",
    "\n",
    "\n",
    "захищений атрибут `_age` можна отрмати також, проте це не рекомендується, атрибут має бути використаний лише всередині класу або його підкласах.\n",
    "\n",
    "\n",
    "приватний атрибут `skill` не можливо отримати таким ж способом, він недоступний ззовні класу, і буде помилка `AttributeError: 'Minion' object has no attribute '__skill'`. але ми можемо написати геттер `get_skill()`, щоб так само мати можливість доступитись"
   ]
  },
  {
   "cell_type": "markdown",
   "metadata": {
    "id": "5op2m2vgMSkZ"
   },
   "source": [
    "4. (7б). Як ви розумієте термін self? Для чого використовується метод __init __?"
   ]
  },
  {
   "cell_type": "markdown",
   "metadata": {
    "id": "DyiPqNRvMasx"
   },
   "source": [
    "`self` - це вказівник на екземпляр об'єкта класу. він завжди є першим і обов'язковим параметром у всіх методах класу та використовується для доступу до атрибутів і методів об'єкта. якраз завдяки self кожен екземпляр класу має свій власний набір даних і методів.\n",
    "\n",
    "`__init__` - функція для заповнення першопочаткового стану об'єкту, яка автоматично викликається при створенні нового екземпляру, ініціанілізує і встановлює значення атрибутам. "
   ]
  },
  {
   "cell_type": "markdown",
   "metadata": {
    "id": "-6X8EGfjMd2y"
   },
   "source": [
    "5. (9б). Створіть клас 3D-фігура без атрибутів, з методом get_volume для отримання об'єму фігури, що повертає 0 та __add __, який приймає self та other в якості аргументів, а повертає суму об'ємів 3d-фігур self та other."
   ]
  },
  {
   "cell_type": "code",
   "execution_count": 126,
   "metadata": {
    "id": "4rvO_wYUMaEr"
   },
   "outputs": [],
   "source": [
    "class Figure3D:\n",
    "    def __add__(self, other):\n",
    "        if isinstance(other, Figure3D):\n",
    "            return self.get_volume() + other.get_volume()\n",
    "        else:\n",
    "            raise TypeError('object must be of Figure3D type')\n",
    "\n",
    "    def get_volume(self):\n",
    "        return 0"
   ]
  },
  {
   "cell_type": "markdown",
   "metadata": {
    "id": "SFcKnnv5Mo_z"
   },
   "source": [
    "6. (11б). Створіть 2 дочірніх класи від 3d-фігура: Циліндр та Куб, які мають атрибути, необхідні для розрахунку об'єму. Визначте метод get_volume в кожному з них так, щоби вони розраховували об'єм у залежності від формули для кожного типу фігури. Створіть обʼєкт класу Циліндр та обʼєкт класу Куб. Виконайте операцію суми за допомогою оператора + між ними, аби знайти сумарний об'єм."
   ]
  },
  {
   "cell_type": "code",
   "execution_count": 39,
   "metadata": {},
   "outputs": [],
   "source": [
    "import math"
   ]
  },
  {
   "cell_type": "code",
   "execution_count": 59,
   "metadata": {
    "id": "H3GVNr69Muf3"
   },
   "outputs": [
    {
     "data": {
      "text/plain": [
       "831.247719318987"
      ]
     },
     "execution_count": 59,
     "metadata": {},
     "output_type": "execute_result"
    }
   ],
   "source": [
    "class Cube(Figure3D):\n",
    "    def __init__(self, side):\n",
    "        self.side = side if side > 0 else 1\n",
    "\n",
    "    def get_volume(self):\n",
    "        return self.side ** 3\n",
    "\n",
    "class Cylinder(Figure3D):\n",
    "    def __init__(self, radius, height):\n",
    "        self.radius = radius if radius > 0 else 1\n",
    "        self.height = height if height > 0 else 1\n",
    "\n",
    "    def get_volume(self):\n",
    "        return (self.radius ** 2) * self.height * math.pi\n",
    "\n",
    "cube = Cube(3)\n",
    "cylinder = Cylinder(4, 16)\n",
    "\n",
    "total_volume = cylinder + cube\n",
    "total_volume"
   ]
  },
  {
   "cell_type": "markdown",
   "metadata": {
    "id": "HCvR206YMvLK"
   },
   "source": [
    "7. (3б). Продемонструйте різницю між isinstance та issubclass."
   ]
  },
  {
   "cell_type": "code",
   "execution_count": 66,
   "metadata": {
    "id": "L_V1bBvDM0GN"
   },
   "outputs": [
    {
     "name": "stdout",
     "output_type": "stream",
     "text": [
      "False\n",
      "False\n",
      "False\n",
      "True\n"
     ]
    }
   ],
   "source": [
    "print(isinstance(Figure3D, Cube))\n",
    "print(isinstance(Cube, Figure3D))\n",
    "print(issubclass(Figure3D, Cube))\n",
    "print(issubclass(Cube, Figure3D))"
   ]
  },
  {
   "cell_type": "markdown",
   "metadata": {},
   "source": [
    "функція `isinstance` перевіряє, чи є об'єкт екземпляром даного класу або його підкласу\n",
    "\n",
    "функція `issubclass` перевіряє, чи є один клас підкласом іншого (де перший аргумент - підклас, другий - клас)"
   ]
  },
  {
   "cell_type": "markdown",
   "metadata": {
    "id": "jjsaBZ-iM0Qq"
   },
   "source": [
    "8. (13б). Створіть клас EWallet з приватними атрибутами balance та id. Реалізуйте методи поповнення та зняття коштів, забезпечивши належну інкапсуляцію. Підказка: використовуйте декоратори property та setter."
   ]
  },
  {
   "cell_type": "code",
   "execution_count": 128,
   "metadata": {
    "id": "xCvZ7lh8M7YA"
   },
   "outputs": [],
   "source": [
    "class EWallet():\n",
    "    def __init__(self, balance, wallet_id):\n",
    "        self.__balance = balance\n",
    "        self.__id = wallet_id\n",
    "\n",
    "    @property\n",
    "    def balance(self):\n",
    "        return self.__balance\n",
    "\n",
    "    @property\n",
    "    def wallet_id(self):\n",
    "        return self.__id\n",
    "\n",
    "    @balance.setter\n",
    "    def balance(self, value):\n",
    "        self.__balance = value\n",
    "        \n",
    "    def deposit(self, amount):\n",
    "        if amount <= 0:\n",
    "            raise ValueError('amount to deposit must be > 0')\n",
    "        self.__balance += amount\n",
    "        return self.__balance\n",
    "\n",
    "    def withdraw(self, amount):\n",
    "        if amount <= 0:\n",
    "            raise ValueError('amount to wathdraw must be > 0')\n",
    "        if amount > self.__balance:\n",
    "            raise ValueError('not enough money on the account')\n",
    "        self.__balance -= amount\n",
    "        return self.__balance"
   ]
  },
  {
   "cell_type": "code",
   "execution_count": 100,
   "metadata": {},
   "outputs": [
    {
     "data": {
      "text/plain": [
       "9999900"
      ]
     },
     "execution_count": 100,
     "metadata": {},
     "output_type": "execute_result"
    }
   ],
   "source": [
    "wallet = EWallet(10000000, 1)\n",
    "wallet.withdraw(100)"
   ]
  },
  {
   "cell_type": "code",
   "execution_count": 102,
   "metadata": {},
   "outputs": [
    {
     "data": {
      "text/plain": [
       "10031942"
      ]
     },
     "execution_count": 102,
     "metadata": {},
     "output_type": "execute_result"
    }
   ],
   "source": [
    "wallet.deposit(32042)"
   ]
  },
  {
   "cell_type": "markdown",
   "metadata": {
    "id": "tIzL2SJTM8ft"
   },
   "source": [
    "9. (11б). Створіть клас ShoppingCart, який містить список об'єктів типу Item. Реалізуйте методи для додавання айтемів, їх видалення та відображення списку айтемів."
   ]
  },
  {
   "cell_type": "code",
   "execution_count": 84,
   "metadata": {
    "id": "HWxfJKLtNAUZ"
   },
   "outputs": [],
   "source": [
    "class Item():\n",
    "    def __init__(self, name, price):\n",
    "        self.name = name\n",
    "        self.price = price\n",
    "\n",
    "    def __repr__(self):\n",
    "        return f\"{self.name} - price: {self.price}\"\n",
    "\n",
    "class ShoppingCart():\n",
    "    def __init__(self):\n",
    "        self.items = list()\n",
    "\n",
    "    def add_item(self, item):\n",
    "        if item not in self.items:\n",
    "            self.items.append(item)\n",
    "        else:\n",
    "            print('item is already in a shopping cart')\n",
    "        \n",
    "    def delete_item(self, item):\n",
    "        if item in self.items:\n",
    "            self.items.remove(item)\n",
    "        else:\n",
    "            print('item not in a shopping cart')\n",
    "    \n",
    "    def show_items(self):\n",
    "        if not self.items:\n",
    "            print('shopping cart is empty')\n",
    "        else:\n",
    "            for item in self.items:\n",
    "                print(item)"
   ]
  },
  {
   "cell_type": "code",
   "execution_count": 130,
   "metadata": {},
   "outputs": [
    {
     "name": "stdout",
     "output_type": "stream",
     "text": [
      "item is already in a shopping cart\n",
      "pyvo - price: 2.5\n",
      "tea - price: 3.0\n",
      "tea - price: 3.0\n"
     ]
    }
   ],
   "source": [
    "item1 = Item('pyvo', 2.5)\n",
    "item2 = Item('tea', 3.0)\n",
    "    \n",
    "cart = ShoppingCart()\n",
    "\n",
    "cart.add_item(item1)\n",
    "cart.add_item(item2)\n",
    "cart.add_item(item1)\n",
    "\n",
    "cart.show_items()\n",
    "\n",
    "cart.delete_item(item1)\n",
    "cart.show_items()"
   ]
  },
  {
   "cell_type": "markdown",
   "metadata": {
    "id": "lmV8pAwwNIqu"
   },
   "source": [
    "10. (13б). Створіть клас Vehicle з атрибутами brand (manufacturer) та production_age. Створіть ще один клас Engine з такими атрибутами, як type (ex. petrol) та size (volume, litres). Створіть клас Car, який успадковує обидва класи Vehicle та Engine. Продемонструйте використання множинної спадковості, створивши обʼєкт класу Car та отримавши mro для цього класу."
   ]
  },
  {
   "cell_type": "code",
   "execution_count": 132,
   "metadata": {
    "id": "R49grKlWNPeN"
   },
   "outputs": [
    {
     "name": "stdout",
     "output_type": "stream",
     "text": [
      "<class '__main__.Car'>\n",
      "<class '__main__.Engine'>\n",
      "<class '__main__.Vehicle'>\n",
      "<class 'object'>\n"
     ]
    }
   ],
   "source": [
    "class Vehicle():\n",
    "    def __init__(self, brand, production_age):\n",
    "        self.brand = brand\n",
    "        self.production_age = production_age\n",
    "\n",
    "class Engine():\n",
    "    def __init__(self, engine_type, size):\n",
    "        self.type = engine_type\n",
    "        self.size = size\n",
    "\n",
    "class Car(Engine, Vehicle):\n",
    "    def __init__(self, brand, production_age, engine_type, size):\n",
    "        Vehicle.__init__(self, brand, production_age)\n",
    "        Engine.__init__(self, engine_type, size)\n",
    "\n",
    "my_car = Car('Batman car', 5, 'petrol', 2.2)\n",
    "for car_class in Car.__mro__:\n",
    "    print(car_class)"
   ]
  },
  {
   "cell_type": "markdown",
   "metadata": {
    "id": "dIJyUiNBFG8G"
   },
   "source": [
    "# II. Iterator"
   ]
  },
  {
   "cell_type": "markdown",
   "metadata": {
    "id": "13vsm0NyKIzL"
   },
   "source": [
    "11. (4б). Визначте рядок(str) з 4ма різними за значенням символами. Створіть ітератор на основі цього рядка. Викличте 5 разів функцію next на ітераторі, 4ри перших з них огорніть у ф-цію print()."
   ]
  },
  {
   "cell_type": "code",
   "execution_count": 115,
   "metadata": {
    "id": "81ntabAkKuz-"
   },
   "outputs": [
    {
     "name": "stdout",
     "output_type": "stream",
     "text": [
      "b\n",
      "e\n",
      "l\n",
      "o\n"
     ]
    },
    {
     "ename": "StopIteration",
     "evalue": "",
     "output_type": "error",
     "traceback": [
      "\u001b[1;31m---------------------------------------------------------------------------\u001b[0m",
      "\u001b[1;31mStopIteration\u001b[0m                             Traceback (most recent call last)",
      "Cell \u001b[1;32mIn[115], line 6\u001b[0m\n\u001b[0;32m      3\u001b[0m \u001b[38;5;28;01mfor\u001b[39;00m i \u001b[38;5;129;01min\u001b[39;00m \u001b[38;5;28mrange\u001b[39m(\u001b[38;5;241m0\u001b[39m, \u001b[38;5;241m4\u001b[39m):\n\u001b[0;32m      4\u001b[0m     \u001b[38;5;28mprint\u001b[39m(\u001b[38;5;28mnext\u001b[39m(it))\n\u001b[1;32m----> 6\u001b[0m \u001b[38;5;28mnext\u001b[39m(it)\n",
      "\u001b[1;31mStopIteration\u001b[0m: "
     ]
    }
   ],
   "source": [
    "line = 'belo'\n",
    "it = iter(line)\n",
    "for i in range(0, 4):\n",
    "    print(next(it))\n",
    "\n",
    "next(it)"
   ]
  },
  {
   "cell_type": "markdown",
   "metadata": {},
   "source": [
    "тут можна поставити `except StopIteration` та використовувати `try`, щоб уникати таких помилок."
   ]
  },
  {
   "cell_type": "markdown",
   "metadata": {
    "id": "aekWHGXOLRsO"
   },
   "source": [
    "А що якщо викликати цю ж функцію на рядку?"
   ]
  },
  {
   "cell_type": "code",
   "execution_count": 118,
   "metadata": {
    "id": "mxATGsErLV1i"
   },
   "outputs": [
    {
     "ename": "TypeError",
     "evalue": "'str' object is not an iterator",
     "output_type": "error",
     "traceback": [
      "\u001b[1;31m---------------------------------------------------------------------------\u001b[0m",
      "\u001b[1;31mTypeError\u001b[0m                                 Traceback (most recent call last)",
      "Cell \u001b[1;32mIn[118], line 1\u001b[0m\n\u001b[1;32m----> 1\u001b[0m \u001b[38;5;28mprint\u001b[39m(\u001b[38;5;28mnext\u001b[39m(line))\n",
      "\u001b[1;31mTypeError\u001b[0m: 'str' object is not an iterator"
     ]
    }
   ],
   "source": [
    "print(next(line))"
   ]
  },
  {
   "cell_type": "markdown",
   "metadata": {},
   "source": [
    "без використання `iter(line)` функція `next()` не спрацює, адже рядок не є ітератором"
   ]
  },
  {
   "cell_type": "markdown",
   "metadata": {
    "id": "XwtMEopwJ4pH"
   },
   "source": [
    " 12. (5б). Опишіть своїми словами в одному реченні, як ви розумієте різницю між ітерабельними обʼєктами та ітераторами (можна на прикладі)."
   ]
  },
  {
   "cell_type": "markdown",
   "metadata": {
    "id": "-sHrODc3KFn8"
   },
   "source": [
    "ітерабельний об'єкт (наприклад, рядок в минулому завданні) містить якісь данні та може створити свій ітератор або бути переданим у for цикл. а ітератор - це об'єкт, який пам'ятає свій поточний стан і дозволяє поетапно проходити елементи за допомогою `next()`. коли він дійде до останнього елементу, то наступний виклик викличе `StopIteration`"
   ]
  },
  {
   "cell_type": "markdown",
   "metadata": {
    "id": "E9qJWmNbK8Gl"
   },
   "source": [
    "13. (11б). Створіть клас, що має визначений Iterator Protocol та при кожному виклику next повертає назву дня тижня, поки вони не вичерпаються. Зверніть увагу, що порядок має значення."
   ]
  },
  {
   "cell_type": "code",
   "execution_count": 122,
   "metadata": {
    "id": "cqx-g_RsLo6I"
   },
   "outputs": [
    {
     "name": "stdout",
     "output_type": "stream",
     "text": [
      "Mon\n",
      "Tue\n",
      "Wed\n",
      "Thu\n",
      "Fri\n",
      "Sat\n",
      "Sun\n"
     ]
    }
   ],
   "source": [
    "class WeekDaysIterator:\n",
    "    def __init__(self):\n",
    "        self.days = ['Mon', 'Tue', 'Wed', 'Thu', 'Fri', 'Sat', 'Sun']\n",
    "        self.counter = 0\n",
    "\n",
    "    def __iter__(self):\n",
    "        return self\n",
    "\n",
    "    def __next__(self):\n",
    "        if self.counter >= len(self.days):\n",
    "            raise StopIteration\n",
    "        day = self.days[self.counter] \n",
    "        self.counter += 1  \n",
    "        return day\n",
    "\n",
    "week_iterator = WeekDaysIterator()\n",
    "for day in week_iterator:\n",
    "    print(day)"
   ]
  },
  {
   "cell_type": "markdown",
   "metadata": {
    "id": "Z3E3S_s1Fv7-"
   },
   "source": [
    "# Вітаю! Ви велика(ий) молодець, що впоралась(вся). Похваліть себе та побалуйте чимось приємним. Я Вами пишаюся."
   ]
  },
  {
   "cell_type": "markdown",
   "metadata": {},
   "source": [
    "<div align=\"center\">\n",
    "    <img src=\"https://i.pinimg.com/736x/2b/97/43/2b9743fde7ac0ed029806472ea57c9be.jpg\" alt=\"Image\">\n",
    "</div>"
   ]
  }
 ],
 "metadata": {
  "colab": {
   "provenance": []
  },
  "kernelspec": {
   "display_name": "Python 3 (ipykernel)",
   "language": "python",
   "name": "python3"
  },
  "language_info": {
   "codemirror_mode": {
    "name": "ipython",
    "version": 3
   },
   "file_extension": ".py",
   "mimetype": "text/x-python",
   "name": "python",
   "nbconvert_exporter": "python",
   "pygments_lexer": "ipython3",
   "version": "3.12.7"
  }
 },
 "nbformat": 4,
 "nbformat_minor": 4
}
